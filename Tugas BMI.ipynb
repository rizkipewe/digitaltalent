{
 "cells": [
  {
   "cell_type": "markdown",
   "metadata": {},
   "source": [
    "##Tugas BMI\n",
    "\n",
    "Menghitung indeks Body Mass Indeks"
   ]
  },
  {
   "cell_type": "code",
   "execution_count": 38,
   "metadata": {},
   "outputs": [
    {
     "name": "stdout",
     "output_type": "stream",
     "text": [
      "Masukan Berat badan dalam kg 70\n",
      "Masukan Tinggi badan cm 170\n",
      "70\n",
      "1.7\n",
      "24.2214532872\n",
      "normal\n",
      "selesai\n"
     ]
    }
   ],
   "source": [
    "BB = eval(raw_input('Masukan Berat badan dalam kg '))\n",
    "TB = eval(raw_input('Masukan Tinggi badan cm '))\n",
    "TBM= TB*0.01\n",
    "BMI=BB/(TBM**2)\n",
    "if BMI<15:\n",
    "    print(BB)\n",
    "    print(TBM)\n",
    "    print(BMI)\n",
    "    print (\"very severely underweight\")\n",
    "elif 15<=BMI<16:\n",
    "    print(BB)\n",
    "    print(TBM)\n",
    "    print(BMI)\n",
    "    print(\"severely underweight\")\n",
    "elif 16<=BMI<18.5:\n",
    "    print(BB)\n",
    "    print(TBM)\n",
    "    print(BMI)\n",
    "    print(\"underweight\")\n",
    "elif 18.5<=BMI<25:\n",
    "    print(BB)\n",
    "    print(TBM)\n",
    "    print(BMI)\n",
    "    print(\"normal\")\n",
    "elif 25<=BMI<30:\n",
    "    print(BB)\n",
    "    print(TBM)\n",
    "    print(BMI)\n",
    "    print(\"overweight\")\n",
    "elif 30<=BMI<35:\n",
    "    print(BB)\n",
    "    print(TBM)\n",
    "    print(BMI)\n",
    "    print(\"moderately obese\")\n",
    "elif 35<=BMI<40:\n",
    "    print(BB)\n",
    "    print(TBM)\n",
    "    print(BMI)\n",
    "    print(\"severely obese\")\n",
    "else:\n",
    "    print(BB)\n",
    "    print(TBM)\n",
    "    print(BMI)\n",
    "    print(\"very severely obese\")\n",
    "print (\"selesai\")"
   ]
  },
  {
   "cell_type": "code",
   "execution_count": null,
   "metadata": {},
   "outputs": [],
   "source": []
  }
 ],
 "metadata": {
  "kernelspec": {
   "display_name": "Python 2",
   "language": "python",
   "name": "python2"
  },
  "language_info": {
   "codemirror_mode": {
    "name": "ipython",
    "version": 2
   },
   "file_extension": ".py",
   "mimetype": "text/x-python",
   "name": "python",
   "nbconvert_exporter": "python",
   "pygments_lexer": "ipython2",
   "version": "2.7.15"
  }
 },
 "nbformat": 4,
 "nbformat_minor": 2
}
