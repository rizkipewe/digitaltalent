{
 "cells": [
  {
   "cell_type": "code",
   "execution_count": 78,
   "metadata": {},
   "outputs": [
    {
     "name": "stdout",
     "output_type": "stream",
     "text": [
      "-Daftar nilai tugas:\n",
      " [90, 53, 35, 65, 5, 67, 38, 9, 36, 98, 17, 68, 61, 99, 7, 82, 81, 57, 37, 99, 31, 53, 59, 17, 50, 91, 20, 25, 93, 85, 61, 30, 76, 26, 16, 42, 93, 46, 43, 31, 75, 99, 54, 49, 78, 49, 86, 14, 31, 74, 44, 29, 35, 12, 70, 43, 7, 40, 41, 38, 90, 20, 4, 49, 67, 52, 8, 86, 30, 19, 62, 88, 33, 69, 93, 22, 2, 99, 96, 49, 13, 39, 98, 69, 79, 41, 9, 8, 13, 66, 68, 95, 9, 13, 54, 12, 95, 26, 16, 96, 47, 35, 14, 12, 28, 86, 57, 77, 92, 59, 94, 96, 67, 17, 20, 38, 82, 97, 13, 56, 60, 63, 53, 42, 48, 49, 39, 13, 10, 91, 16, 41, 58, 68, 9, 75, 33, 42, 28, 73, 55, 58, 10, 90, 15, 59, 96, 34, 82, 35, 44, 60, 5, 23, 83, 15, 37, 40, 71, 53, 51, 44, 9, 35, 99, 86, 43, 4, 72, 83, 65, 76, 76, 13, 3, 9, 12, 97, 34, 34, 74, 18, 93, 95, 57, 58, 79, 59, 36, 46, 34, 69, 79, 43, 78, 28, 41, 6, 13, 47, 41, 63, 49, 48, 19, 10, 3, 63, 72, 27, 56, 76, 96, 12, 49, 62, 7, 5, 63, 61, 55, 19, 31, 23, 99, 39, 45, 51, 48, 52, 3, 39, 33, 58, 80, 73, 93, 46, 12, 71, 66, 3, 45, 10, 63, 82, 66, 96, 35, 76]\n",
      "-Daftar nilai tugas yang bernilai ganjil:\n",
      " [53, 35, 65, 5, 67, 9, 17, 61, 99, 7, 81, 57, 37, 99, 31, 53, 59, 17, 91, 25, 93, 85, 61, 93, 43, 31, 75, 99, 49, 49, 31, 29, 35, 43, 7, 41, 49, 67, 19, 33, 69, 93, 99, 49, 13, 39, 69, 79, 41, 9, 13, 95, 9, 13, 95, 47, 35, 57, 77, 59, 67, 17, 97, 13, 63, 53, 49, 39, 13, 91, 41, 9, 75, 33, 73, 55, 15, 59, 35, 5, 23, 83, 15, 37, 71, 53, 51, 9, 35, 99, 43, 83, 65, 13, 3, 9, 97, 93, 95, 57, 79, 59, 69, 79, 43, 41, 13, 47, 41, 63, 49, 19, 3, 63, 27, 49, 7, 5, 63, 61, 55, 19, 31, 23, 99, 39, 45, 51, 3, 39, 33, 73, 93, 71, 3, 45, 63, 35]\n",
      "-Dalam daftar nilai tugas terdapat nilai gajil sebanyak 32\n",
      "-Nilai standar deviasi pada data nilai tugas:\n",
      " 4.806662043455937\n",
      "-Nilai tertinggi pada data nilai tugas :\n",
      " 99\n",
      "-Nilai terendah pada data nilai tugas:\n",
      " 2\n",
      "-Nilai yang sering muncul pada data nilai tugas adalah :\n",
      " [76]\n"
     ]
    }
   ],
   "source": [
    "import random\n",
    "\n",
    "# GENERATE RANDOM\n",
    "nilaiTugas = []\n",
    "jmlhdata=250\n",
    "for i in range(250):\n",
    "    nilaiTugas.append(random.randrange(1,100,1))\n",
    "\n",
    "print('-Daftar nilai tugas:\\n', nilaiTugas)\n",
    "# ganjil\n",
    "ganjil = []\n",
    "for n in nilaiTugas:\n",
    "    if n % 2 == 1:\n",
    "        ganjil.append(n)\n",
    "print('-Daftar nilai tugas yang bernilai ganjil:\\n', ganjil)\n",
    "\n",
    "# TAMPILKAN:\n",
    "\n",
    "# nilai > 70\n",
    "nilailebih70 = []\n",
    "for a in ganjil :\n",
    "    if a > 70 :\n",
    "        nilailebih70.append(a)\n",
    "b=len(nilailebih70)\n",
    "print ('-Dalam daftar nilai tugas terdapat nilai gajil sebanyak', b)\n",
    "# standar deviasi\n",
    "for n in nilaiTugas:\n",
    "    sumx= n\n",
    "    sumx2= (n**2)\n",
    "std=((jmlhdata*sumx2-(sumx**2))/(jmlhdata*(jmlhdata-1)))**(1/2)\n",
    "print('-Nilai standar deviasi pada data nilai tugas:\\n', std)\n",
    "# maksimum\n",
    "maks=0\n",
    "for n in nilaiTugas:\n",
    "    if n>maks:\n",
    "        maks=n\n",
    "print ('-Nilai tertinggi pada data nilai tugas :\\n', maks)\n",
    "#minimum\n",
    "Minim= 99\n",
    "for n in nilaiTugas:\n",
    "    if n<Minim:\n",
    "        Minim=n\n",
    "print(\"-Nilai terendah pada data nilai tugas:\\n\", Minim)\n",
    "    \n",
    "# modus\n",
    "parameterModus= 0\n",
    "nModus = []\n",
    "\n",
    "angkaPadaData = nilaiTugas[0]\n",
    "banyakAngka = 1\n",
    "\n",
    "for j in range(1, len(nilaiTugas)):\n",
    "    if (nilaiTugas[j] == angkaPadaData):\n",
    "        banyakAngka += 1\n",
    "    else:\n",
    "        if (banyakAngka > parameter):\n",
    "            parameterModus = banyakAngka\n",
    "            nModus = []\n",
    "            nModus.append(angkaPadaData )\n",
    "        elif(banyakAngka == parameter):\n",
    "            nModus.append(angkaPadaData )\n",
    "        angkaPadaData = nilaiTugas[j]\n",
    "        banyakAngka = 1\n",
    "if (banyakAngka > parameter):\n",
    "    parameterModus = banyakAngka\n",
    "    nModus = []\n",
    "    nModus.append(angkaPadaData )\n",
    "elif(banyakAngka == parameter):\n",
    "    nModus.append(angkaPadaData )\n",
    "    \n",
    "print ('-Nilai yang sering muncul pada data nilai tugas adalah :\\n',nModus)"
   ]
  },
  {
   "cell_type": "code",
   "execution_count": null,
   "metadata": {},
   "outputs": [],
   "source": []
  },
  {
   "cell_type": "code",
   "execution_count": null,
   "metadata": {},
   "outputs": [],
   "source": []
  }
 ],
 "metadata": {
  "kernelspec": {
   "display_name": "Python 3",
   "language": "python",
   "name": "python3"
  },
  "language_info": {
   "codemirror_mode": {
    "name": "ipython",
    "version": 3
   },
   "file_extension": ".py",
   "mimetype": "text/x-python",
   "name": "python",
   "nbconvert_exporter": "python",
   "pygments_lexer": "ipython3",
   "version": "3.7.0"
  }
 },
 "nbformat": 4,
 "nbformat_minor": 2
}
